{
  "nbformat": 4,
  "nbformat_minor": 0,
  "metadata": {
    "colab": {
      "provenance": []
    },
    "kernelspec": {
      "name": "python3",
      "display_name": "Python 3"
    },
    "language_info": {
      "name": "python"
    }
  },
  "cells": [
    {
      "cell_type": "code",
      "execution_count": 14,
      "metadata": {
        "colab": {
          "base_uri": "https://localhost:8080/"
        },
        "id": "8XVg4xb5ADTZ",
        "outputId": "425ea468-b0f2-4207-f2d0-6303989c59e3"
      },
      "outputs": [
        {
          "output_type": "stream",
          "name": "stdout",
          "text": [
            "James's birthday is on 2000-05-10\n",
            "Leyla's birthday is on 2001-06-15\n",
            "[['James', '2000-05-10'], ['Leyla', '2001-06-15']]\n"
          ]
        }
      ],
      "source": [
        "import csv  # I imported the CSV module for handling CSV files\n",
        "from abc import ABC, abstractmethod  # it is importing ABC (Abstract Base Class) and abstractmethod for defining abstract classes and methods\n",
        "import datetime  # We are importing the datetime module for working with dates and times\n",
        "\n",
        "class Reminder(ABC):  # Defining an abstract base class Reminder\n",
        "    @abstractmethod  # it is a decorator to define an abstract method\n",
        "    def send_notification(self):  # Abstract method to send notifications\n",
        "        pass\n",
        "\n",
        "    @abstractmethod  # Decorator to define another abstract method\n",
        "    def print_reminders(self):  # Abstract method to print reminders\n",
        "        pass\n",
        "\n",
        "class BirthdayReminder(Reminder):  # Define a concrete class BirthdayReminder that inherits from Reminder\n",
        "    def __init__(self, user):  # Constructor method\n",
        "        self.user = user  # we are nitializing the user attribute with the provided user name\n",
        "        self.birthdays = {}  # we are initializing an empty dictionary to store birthdays\n",
        "\n",
        "    def add_birthday(self, name, date):  # Method to add a birthday to the reminders\n",
        "        self.birthdays[name] = date  # Add the provided name and date to the birthdays dictionary\n",
        "\n",
        "    def remove_birthday(self, name):  # Method to remove a birthday from the reminders\n",
        "        if name in self.birthdays:  # WE can check if the name exists in the birthdays dictionary\n",
        "            del self.birthdays[name]  # If yes, delete the birthday associated with the name\n",
        "\n",
        "    def print_reminders(self):  # Method to print all reminders\n",
        "        \"\"\"Prints all birthdays.\"\"\"\n",
        "        for name, date in self.birthdays.items():  # Iterate through the birthdays dictionary\n",
        "            print(f\"{name}'s birthday is on {date}\")  # Print each name and associated birthday date\n",
        "\n",
        "    def send_notification(self):  # Method to send notifications for birthdays\n",
        "        \"\"\"Sends notifications for birthdays today.\"\"\"\n",
        "        today = datetime.date.today()  # we can get the current date\n",
        "        for name, date in self.birthdays.items():  # we can iterate by the birthdays dictionary\n",
        "            b_date = datetime.datetime.strptime(date, \"%Y-%m-%d\").date()  # Convert the birthday date string to a date object\n",
        "            if b_date.month == today.month and b_date.day == today.day:  # we are checking if the birthday is today\n",
        "                print(f\"Notification: Today is {name}'s birthday!\")  # If it is yes, it prints a notification message\n",
        "\n",
        "class ReminderFactory:  # Define a class to create reminder objects\n",
        "    @staticmethod  # Decorator to define a static method\n",
        "    def create_reminder(reminder_type, user):  # Static method to create a reminder based on type\n",
        "        if reminder_type == \"Birthday\":  # we check if the reminder type is \"Birthday\"\n",
        "            return BirthdayReminder(user)  # If it is yes, it creates a BirthdayReminder object with the provided user name\n",
        "        else:  # If the reminder type is not recognized\n",
        "            raise ValueError(\"Invalid reminder type\")  # Raise a ValueError indicating an invalid reminder type\n",
        "\n",
        "class CSVHandler:  #We are defining a class to handle CSV file operations\n",
        "    @staticmethod  # Shows decorator to define a static method\n",
        "    def export_to_csv(filename, data):  # Static method to export data to a CSV file\n",
        "        with open(filename, 'w', newline='') as file:  # Open the file in write mode, 'w' means write\n",
        "            writer = csv.writer(file)  # Create a CSV writer object\n",
        "            writer.writerows(data)  # Write all rows of data to the CSV file\n",
        "\n",
        "    @staticmethod  # Decorator to define another static method\n",
        "    def import_from_csv(filename):  # Static method to import data from a CSV file\n",
        "        data = []  # Initialize an empty list to store imported data\n",
        "        with open(filename, 'r') as file:  # Open the file in read mode, 'r' means read\n",
        "            reader = csv.reader(file)  # Create a CSV reader object\n",
        "            for row in reader:  # Iterate through each row in the CSV file\n",
        "                data.append(row)  # Append the row to the data list\n",
        "        return data  # Return the imported data\n",
        "\n",
        "class EmailNotificationDecorator(Reminder):  # Define a decorator class EmailNotificationDecorator inheriting from Reminder\n",
        "    def __init__(self, wrapped_reminder):  # Constructor method with a parameter wrapped_reminder\n",
        "        self.wrapped_reminder = wrapped_reminder  # Assign the wrapped reminder object to an attribute\n",
        "\n",
        "    def send_notification(self):  # Method to send notifications\n",
        "        self.wrapped_reminder.send_notification()  # Call the original send_notification method of the wrapped reminder object\n",
        "        self.send_email_notification()  # Call the custom send_email_notification method\n",
        "\n",
        "    def send_email_notification(self):  # Method to send email notifications\n",
        "        # Implement email notification functionality here\n",
        "        print(\"Email notification sent for birthdays today\")  # Print a notification message for sending email\n",
        "\n",
        "# Examples for the test\n",
        "reminder = ReminderFactory.create_reminder(\"Birthday\", \"Leyla\")  # We are reating a BirthdayReminder object for user \"Leyla\"\n",
        "reminder.add_birthday('James', '2000-05-10')  # Adding James's birthday to the reminder\n",
        "reminder.add_birthday('Leyla', '2001-06-15')  # Adding Leyla's birthday to the reminder\n",
        "\n",
        "reminder.print_reminders()  # Printing all reminders\n",
        "reminder.send_notification()  # Sending notifications for today's birthdays\n",
        "\n",
        "data_to_export = [['James', '2000-05-10'], ['Leyla', '2001-06-15']]  # Sample data to export to CSV\n",
        "CSVHandler.export_to_csv('reminders.csv', data_to_export)  # Exporting data to a CSV file\n",
        "\n",
        "imported_data = CSVHandler.import_from_csv('reminders.csv')  # we are importing data from the CSV file\n",
        "print(imported_data)  # Print the imported data"
      ]
    },
    {
      "cell_type": "code",
      "source": [
        "# We import the unittest module. This is a built-in Python module for writing and running tests.\n",
        "import unittest\n",
        "\n",
        "# We import the io and sys modules, which provide tools for working with input/output in Python, and the contextlib module, which provides utilities for working with context managers.\n",
        "import io\n",
        "import sys\n",
        "from contextlib import redirect_stdout\n",
        "\n",
        "# We define a new test case class TestBirthdayReminder. This class inherits from unittest.TestCase, which means it's a test case that can be run by the unittest test runner.\n",
        "class TestBirthdayReminder(unittest.TestCase):\n",
        "\n",
        "    # The setUp method is a special method that is run before each test. Here, we use it to create a new BirthdayReminder instance that will be used in the tests.\n",
        "    def setUp(self):\n",
        "        self.reminder = BirthdayReminder('User1')\n",
        "\n",
        "    # This is a test method. Each method in a TestCase subclass that starts with \"test_\" is a test that will be run by the test runner.\n",
        "    def test_add_birthday(self):\n",
        "        # We call the add_birthday method of the BirthdayReminder instance, and then check that the birthday was added correctly.\n",
        "        self.reminder.add_birthday('John Doe', '2000-01-01')\n",
        "        self.assertEqual(self.reminder.birthdays['John Doe'], '2000-01-01')\n",
        "\n",
        "    # This is another test method. It tests the remove_birthday method.\n",
        "    def test_remove_birthday(self):\n",
        "        # We add a birthday, remove it, and then check that it was removed correctly.\n",
        "        self.reminder.add_birthday('John Doe', '2000-01-01')\n",
        "        self.reminder.remove_birthday('John Doe')\n",
        "        self.assertNotIn('John Doe', self.reminder.birthdays)\n",
        "\n",
        "    # This test method tests the print_reminders method.\n",
        "    def test_print_reminders(self):\n",
        "        # We add a birthday, and then check that the print_reminders method prints it correctly.\n",
        "        self.reminder.add_birthday('John Doe', '2000-01-01')\n",
        "        expected_output = \"John Doe's birthday is on 2000-01-01\\n\"\n",
        "        # We use the io.StringIO class to create a \"file-like\" object that we can use to capture the output of the print_reminders method.\n",
        "        with io.StringIO() as buf, redirect_stdout(buf):\n",
        "            self.reminder.print_reminders()\n",
        "            output = buf.getvalue()\n",
        "        # We check that the output of the print_reminders method matches the expected output.\n",
        "        self.assertEqual(output, expected_output)\n",
        "\n",
        "    # This test method tests the send_notification method.\n",
        "    def test_send_notification(self):\n",
        "        # We add a birthday for today, and then check that the send_notification method sends a notification for it.\n",
        "        today = datetime.date.today().strftime('%Y-%m-%d')\n",
        "        self.reminder.add_birthday('John Doe', today)\n",
        "        expected_output = f\"Notification: Today is John Doe's birthday!\\n\"\n",
        "        with io.StringIO() as buf, redirect_stdout(buf):\n",
        "            self.reminder.send_notification()\n",
        "            output = buf.getvalue()\n",
        "        self.assertEqual(output, expected_output)\n",
        "\n",
        "# We create a TestSuite object that includes all the tests from the TestBirthdayReminder test case.\n",
        "suite = unittest.TestLoader().loadTestsFromTestCase(TestBirthdayReminder)\n",
        "\n",
        "# We create a TextTestRunner object and use it to run the test suite.\n",
        "unittest.TextTestRunner().run(suite)\n"
      ],
      "metadata": {
        "colab": {
          "base_uri": "https://localhost:8080/"
        },
        "id": "tD4cr_Ne1UX0",
        "outputId": "c1aac82c-be89-4dd0-a802-a4e615e08605"
      },
      "execution_count": 20,
      "outputs": [
        {
          "output_type": "stream",
          "name": "stderr",
          "text": [
            "....\n",
            "----------------------------------------------------------------------\n",
            "Ran 4 tests in 0.010s\n",
            "\n",
            "OK\n"
          ]
        },
        {
          "output_type": "execute_result",
          "data": {
            "text/plain": [
              "<unittest.runner.TextTestResult run=4 errors=0 failures=0>"
            ]
          },
          "metadata": {},
          "execution_count": 20
        }
      ]
    }
  ]
}